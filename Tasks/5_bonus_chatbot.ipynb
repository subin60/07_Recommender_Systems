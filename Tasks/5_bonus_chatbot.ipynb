{
  "nbformat": 4,
  "nbformat_minor": 0,
  "metadata": {
    "colab": {
      "provenance": []
    },
    "kernelspec": {
      "name": "python3",
      "display_name": "Python 3"
    },
    "language_info": {
      "name": "python"
    }
  },
  "cells": [
    {
      "cell_type": "code",
      "source": [
        "import pandas as pd\n",
        "from sklearn.metrics.pairwise import cosine_similarity\n",
        "\n",
        "# rating_final.csv\n",
        "url = 'https://drive.google.com/file/d/1ptu4AlEXO4qQ8GytxKHoeuS1y4l_zWkC/view?usp=sharing' \n",
        "path = 'https://drive.google.com/uc?export=download&id='+url.split('/')[-2]\n",
        "frame = pd.read_csv(path)\n",
        "\n",
        "# 'geoplaces2.csv'\n",
        "url = 'https://drive.google.com/file/d/1ee3ib7LqGsMUksY68SD9yBItRvTFELxo/view?usp=sharing' \n",
        "path = 'https://drive.google.com/uc?export=download&id='+url.split('/')[-2]\n",
        "geodata = pd.read_csv(path, encoding = 'CP1252') # change encoding to 'mbcs' in Windows\n",
        "\n",
        "places = geodata[['placeID', 'name']]\n",
        "\n",
        "users_items = pd.pivot_table(data=frame, \n",
        "                                 values='rating', \n",
        "                                 index='userID', \n",
        "                                 columns='placeID')\n",
        "\n",
        "users_items.fillna(0, inplace=True)\n",
        "\n",
        "user_similarities = pd.DataFrame(cosine_similarity(users_items),\n",
        "                                 columns=users_items.index, \n",
        "                                 index=users_items.index)"
      ],
      "metadata": {
        "id": "bOtZJfSUsg-V"
      },
      "execution_count": null,
      "outputs": []
    },
    {
      "cell_type": "code",
      "execution_count": null,
      "metadata": {
        "id": "hXuqbLQlSR8H"
      },
      "outputs": [],
      "source": [
        "def weighted_user_rec(user_id, n):\n",
        "  weights = (user_similarities.query(\"userID!=@user_id\")[user_id] / sum(user_similarities.query(\"userID!=@user_id\")[user_id]))\n",
        "  not_visited_restaurants = users_items.loc[users_items.index!=user_id, users_items.loc[user_id,:]==0]\n",
        "  weighted_averages = pd.DataFrame(not_visited_restaurants.T.dot(weights), columns=[\"predicted_rating\"])\n",
        "  recommendations = weighted_averages.merge(places, left_index=True, right_on=\"placeID\")\n",
        "  top_recommendations = recommendations.sort_values(\"predicted_rating\", ascending=False).head(n)\n",
        "  return top_recommendations"
      ]
    },
    {
      "cell_type": "code",
      "source": [
        "def chat_bot():\n",
        "    print(\"Hi! I'm your personal recommender. Tell me your userID.\")\n",
        "    user_id = input()\n",
        "    recom = weighted_user_rec(user_id, 1)\n",
        "    print(f\"You will probably like the restaurant: {list(recom['name'])[0]}\")\n",
        "    \n",
        "chat_bot()"
      ],
      "metadata": {
        "colab": {
          "base_uri": "https://localhost:8080/"
        },
        "id": "nvt1AqPNtcil",
        "outputId": "28c577e3-2370-46e3-b039-9665b57ce625"
      },
      "execution_count": null,
      "outputs": [
        {
          "output_type": "stream",
          "name": "stdout",
          "text": [
            "Hi! I'm your personal recommender. Tell me your userID.\n",
            "U1077\n",
            "You will probably like the restaurant: La Cantina Restaurante\n"
          ]
        }
      ]
    },
    {
      "cell_type": "markdown",
      "source": [
        "Make your a chatbot for your movie recommender but make it smarter:\n",
        "- Give an error message if the user enters unrecognised information\n",
        "- Account for user errors such as capital letters in the wrong places, or the word `the` at the end of movies (e.g. Princess Bride, the)\n",
        "- Ask the user for clarification if your search brings back multiple results. For example, there are lots of movies with the word 'Thing' in the title, including 2 movies called 'Thing, the', your chatbot should ask the user which of these movies they meant\n",
        "- Create a FAQ dictionary to answer typical chatbot questions such as 'What is your name?' or 'Tell me a joke'"
      ],
      "metadata": {
        "id": "ZH_bEOg_w7tw"
      }
    },
    {
      "cell_type": "code",
      "source": [],
      "metadata": {
        "id": "ted4WeqszwsM"
      },
      "execution_count": null,
      "outputs": []
    }
  ]
}