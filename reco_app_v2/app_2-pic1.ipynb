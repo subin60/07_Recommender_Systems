{
 "cells": [
  {
   "cell_type": "code",
   "execution_count": null,
   "id": "b1e3f3b7-6409-47c5-8ed7-63028ebbfd8b",
   "metadata": {},
   "outputs": [],
   "source": [
    "import streamlit as st\n",
    "import pandas as pd\n",
    "\n",
    "from movie_reco_streamlit_V01_pic import recommendations\n",
    "from movie_reco_streamlit_popular_pic import popular_movies\n",
    "\n",
    "st.markdown('<h1 style=\"font-size: 34px; color: #87CEEB;\">Welcome To WBSFLIX Movie Recommender</h1>', unsafe_allow_html=True)\n",
    "\n",
    "st.markdown('<h1 style=\"font-size: 24px; color: #FFD700;\">Blockbusters</h1>', unsafe_allow_html=True)\n",
    "\n",
    "num_popular_movies = st.slider(\"How many blockbusters or popular movies would you like to display?\", min_value=1, max_value=20, value=5, step=1)\n",
    "\n",
    "def dataframe_to_markdown_with_images(df, img_width=50):\n",
    "    markdown = '| No. | Movie | Genres | Release Year | Movie Rating | Image |\\n'\n",
    "    markdown += '| --- | --- | --- | --- | --- | --- |\\n'\n",
    "\n",
    "    for idx, (_, row) in enumerate(df.iterrows(), start=1):\n",
    "        title, genres, year, rating, image_url = row\n",
    "        genres = genres.replace(\"|\", \", \")\n",
    "\n",
    "        if image_url:\n",
    "            image_column = f'<img src=\"{image_url}\" alt=\"{title}\" width=\"{img_width}px\" />'\n",
    "        else:\n",
    "            image_column = \"\"\n",
    "\n",
    "        markdown += f'| {idx} | {title} | {genres} | {year} | {rating} | {image_column} |\\n'\n",
    "\n",
    "    return markdown\n",
    "\n",
    "popular_movies_df = popular_movies(num_popular_movies)\n",
    "st.write(\"Most popular movies:\")\n",
    "st.markdown(dataframe_to_markdown_with_images(popular_movies_df), unsafe_allow_html=True)\n",
    "\n",
    "st.divider()\n",
    "\n",
    "st.markdown('<h1 style=\"font-size: 24px; color: #FFD700;\">Our Carefully Selected Movie Suggestions For You...</h1>', unsafe_allow_html=True)\n",
    "user_id = st.number_input(\"Please enter your user id:\", min_value=1, max_value=610, value=610, step=1)\n",
    "num_recommendations = st.slider(\"How many personalized movie recommendations would you like to receive?\", min_value=1, max_value=20, value=5, step=1)\n",
    "\n",
    "if st.button(\"Get Recommendations\"):\n",
    "    try:\n",
    "        result = recommendations(num_recommendations, user_id)\n",
    "        st.write(f\"You will probably like the following movies:\")\n",
    "        st.markdown(dataframe_to_markdown_with_images(result), unsafe_allow_html=True)\n",
    "    except Exception as e:\n",
    "        st.error(f\"An error occurred: {e}\")\n",
    "\n",
    "st.divider()\n"
   ]
  },
  {
   "cell_type": "code",
   "execution_count": null,
   "id": "b275c63c-e109-4bb0-8d42-7111e9e4d4fb",
   "metadata": {},
   "outputs": [],
   "source": []
  }
 ],
 "metadata": {
  "kernelspec": {
   "display_name": "Python 3 (ipykernel)",
   "language": "python",
   "name": "python3"
  },
  "language_info": {
   "codemirror_mode": {
    "name": "ipython",
    "version": 3
   },
   "file_extension": ".py",
   "mimetype": "text/x-python",
   "name": "python",
   "nbconvert_exporter": "python",
   "pygments_lexer": "ipython3",
   "version": "3.9.13"
  }
 },
 "nbformat": 4,
 "nbformat_minor": 5
}
