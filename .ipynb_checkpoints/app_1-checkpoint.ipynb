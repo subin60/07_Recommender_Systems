{
 "cells": [
  {
   "cell_type": "code",
   "execution_count": null,
   "id": "e82504e5-ee5b-489b-b59b-2a8fca3b8704",
   "metadata": {},
   "outputs": [],
   "source": [
    "import streamlit as st\n",
    "from movie_reco_streamlit_V01 import recommendations  # Replace 'your_module' with the module name containing your 'recommendations' function\n",
    "\n",
    "st.title(\"Movie Recommender\")\n",
    "\n",
    "user_id = st.number_input(\"Please enter your user id:\", min_value=1, max_value=610, value=610, step=1)\n",
    "num_recommendations = st.slider(\"How many movie recommendations do you want?\", min_value=1, max_value=20, value=5, step=1)\n",
    "\n",
    "\n",
    "    \n",
    "def dataframe_to_markdown(df):\n",
    "    markdown = '| ' + 'No. | ' + ' | '.join(df.columns) + ' |\\n'\n",
    "    markdown += '| ' + ' | '.join(['---'] * (len(df.columns) + 1)) + ' |\\n'\n",
    "\n",
    "    for idx, (_, row) in enumerate(df.iterrows(), start=1):\n",
    "        row_str = [str(idx)] + [str(e) for e in row]\n",
    "        row_str[2] = row_str[2].replace(\"|\", \", \")\n",
    "        markdown += '| ' + ' | '.join(row_str) + ' |\\n'\n",
    "    return markdown\n",
    "\n",
    "if st.button(\"Get Recommendations\"):\n",
    "    try:\n",
    "        result = recommendations(num_recommendations, user_id)\n",
    "        st.write(f\"You will probably like the following movies:\")\n",
    "        st.markdown(dataframe_to_markdown(result), unsafe_allow_html=True)\n",
    "    except Exception as e:\n",
    "        st.error(f\"An error occurred: {e}\")"
   ]
  }
 ],
 "metadata": {
  "kernelspec": {
   "display_name": "Python 3 (ipykernel)",
   "language": "python",
   "name": "python3"
  },
  "language_info": {
   "codemirror_mode": {
    "name": "ipython",
    "version": 3
   },
   "file_extension": ".py",
   "mimetype": "text/x-python",
   "name": "python",
   "nbconvert_exporter": "python",
   "pygments_lexer": "ipython3",
   "version": "3.9.13"
  }
 },
 "nbformat": 4,
 "nbformat_minor": 5
}
